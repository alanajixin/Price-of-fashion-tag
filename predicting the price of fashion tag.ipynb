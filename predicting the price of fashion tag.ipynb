{
 "cells": [
  {
   "cell_type": "code",
   "execution_count": 1,
   "id": "4a85b2c3",
   "metadata": {},
   "outputs": [],
   "source": [
    "import numpy as np\n",
    "import pandas as pd\n",
    "import matplotlib.pyplot as plt\n",
    "import seaborn as sns\n"
   ]
  },
  {
   "cell_type": "code",
   "execution_count": 2,
   "id": "abdea587",
   "metadata": {},
   "outputs": [],
   "source": [
    "train=pd.read_csv(\"C:\\\\Users\\\\Asus\\\\Downloads\\\\Dataset\\\\Dataset\\\\Train.csv\")"
   ]
  },
  {
   "cell_type": "code",
   "execution_count": 3,
   "id": "56c4ac3f",
   "metadata": {},
   "outputs": [
    {
     "data": {
      "text/html": [
       "<div>\n",
       "<style scoped>\n",
       "    .dataframe tbody tr th:only-of-type {\n",
       "        vertical-align: middle;\n",
       "    }\n",
       "\n",
       "    .dataframe tbody tr th {\n",
       "        vertical-align: top;\n",
       "    }\n",
       "\n",
       "    .dataframe thead th {\n",
       "        text-align: right;\n",
       "    }\n",
       "</style>\n",
       "<table border=\"1\" class=\"dataframe\">\n",
       "  <thead>\n",
       "    <tr style=\"text-align: right;\">\n",
       "      <th></th>\n",
       "      <th>Monthly_Output_Tonnes</th>\n",
       "      <th>Yearly_Release_Count</th>\n",
       "      <th>CO2_Emissions</th>\n",
       "      <th>Water_Used_ML</th>\n",
       "      <th>Waste_To_Landfill_Tonnes</th>\n",
       "      <th>Avg_Worker_Wage_USD</th>\n",
       "      <th>Weekly_Work_Hours</th>\n",
       "      <th>Avg_fashion_item_Price</th>\n",
       "    </tr>\n",
       "  </thead>\n",
       "  <tbody>\n",
       "    <tr>\n",
       "      <th>0</th>\n",
       "      <td>588.648594</td>\n",
       "      <td>17</td>\n",
       "      <td>11594.85374</td>\n",
       "      <td>191.264884</td>\n",
       "      <td>930.946232</td>\n",
       "      <td>86.021109</td>\n",
       "      <td>63</td>\n",
       "      <td>22.459343</td>\n",
       "    </tr>\n",
       "    <tr>\n",
       "      <th>1</th>\n",
       "      <td>419.410744</td>\n",
       "      <td>16</td>\n",
       "      <td>17049.04268</td>\n",
       "      <td>233.167384</td>\n",
       "      <td>802.147084</td>\n",
       "      <td>162.032022</td>\n",
       "      <td>56</td>\n",
       "      <td>16.283957</td>\n",
       "    </tr>\n",
       "    <tr>\n",
       "      <th>2</th>\n",
       "      <td>523.379827</td>\n",
       "      <td>7</td>\n",
       "      <td>7916.67980</td>\n",
       "      <td>212.169477</td>\n",
       "      <td>918.327579</td>\n",
       "      <td>42.024435</td>\n",
       "      <td>52</td>\n",
       "      <td>18.570310</td>\n",
       "    </tr>\n",
       "    <tr>\n",
       "      <th>3</th>\n",
       "      <td>202.911362</td>\n",
       "      <td>29</td>\n",
       "      <td>14981.41434</td>\n",
       "      <td>177.040708</td>\n",
       "      <td>903.096798</td>\n",
       "      <td>153.365509</td>\n",
       "      <td>51</td>\n",
       "      <td>14.158061</td>\n",
       "    </tr>\n",
       "    <tr>\n",
       "      <th>4</th>\n",
       "      <td>185.040996</td>\n",
       "      <td>15</td>\n",
       "      <td>12495.97073</td>\n",
       "      <td>153.809215</td>\n",
       "      <td>767.246025</td>\n",
       "      <td>125.304830</td>\n",
       "      <td>48</td>\n",
       "      <td>22.631940</td>\n",
       "    </tr>\n",
       "  </tbody>\n",
       "</table>\n",
       "</div>"
      ],
      "text/plain": [
       "   Monthly_Output_Tonnes  Yearly_Release_Count  CO2_Emissions  Water_Used_ML  \\\n",
       "0             588.648594                    17    11594.85374     191.264884   \n",
       "1             419.410744                    16    17049.04268     233.167384   \n",
       "2             523.379827                     7     7916.67980     212.169477   \n",
       "3             202.911362                    29    14981.41434     177.040708   \n",
       "4             185.040996                    15    12495.97073     153.809215   \n",
       "\n",
       "   Waste_To_Landfill_Tonnes  Avg_Worker_Wage_USD  Weekly_Work_Hours  \\\n",
       "0                930.946232            86.021109                 63   \n",
       "1                802.147084           162.032022                 56   \n",
       "2                918.327579            42.024435                 52   \n",
       "3                903.096798           153.365509                 51   \n",
       "4                767.246025           125.304830                 48   \n",
       "\n",
       "   Avg_fashion_item_Price  \n",
       "0               22.459343  \n",
       "1               16.283957  \n",
       "2               18.570310  \n",
       "3               14.158061  \n",
       "4               22.631940  "
      ]
     },
     "execution_count": 3,
     "metadata": {},
     "output_type": "execute_result"
    }
   ],
   "source": [
    "train.head()"
   ]
  },
  {
   "cell_type": "code",
   "execution_count": 4,
   "id": "ef4ea1f4",
   "metadata": {},
   "outputs": [
    {
     "name": "stdout",
     "output_type": "stream",
     "text": [
      "<class 'pandas.core.frame.DataFrame'>\n",
      "RangeIndex: 15000 entries, 0 to 14999\n",
      "Data columns (total 8 columns):\n",
      " #   Column                    Non-Null Count  Dtype  \n",
      "---  ------                    --------------  -----  \n",
      " 0   Monthly_Output_Tonnes     15000 non-null  float64\n",
      " 1   Yearly_Release_Count      15000 non-null  int64  \n",
      " 2   CO2_Emissions             15000 non-null  float64\n",
      " 3   Water_Used_ML             15000 non-null  float64\n",
      " 4   Waste_To_Landfill_Tonnes  15000 non-null  float64\n",
      " 5   Avg_Worker_Wage_USD       15000 non-null  float64\n",
      " 6   Weekly_Work_Hours         15000 non-null  int64  \n",
      " 7   Avg_fashion_item_Price    15000 non-null  float64\n",
      "dtypes: float64(6), int64(2)\n",
      "memory usage: 937.6 KB\n"
     ]
    }
   ],
   "source": [
    "train.info()"
   ]
  },
  {
   "cell_type": "code",
   "execution_count": 5,
   "id": "1291a36a",
   "metadata": {
    "scrolled": true
   },
   "outputs": [
    {
     "data": {
      "text/html": [
       "<div>\n",
       "<style scoped>\n",
       "    .dataframe tbody tr th:only-of-type {\n",
       "        vertical-align: middle;\n",
       "    }\n",
       "\n",
       "    .dataframe tbody tr th {\n",
       "        vertical-align: top;\n",
       "    }\n",
       "\n",
       "    .dataframe thead th {\n",
       "        text-align: right;\n",
       "    }\n",
       "</style>\n",
       "<table border=\"1\" class=\"dataframe\">\n",
       "  <thead>\n",
       "    <tr style=\"text-align: right;\">\n",
       "      <th></th>\n",
       "      <th>Monthly_Output_Tonnes</th>\n",
       "      <th>Yearly_Release_Count</th>\n",
       "      <th>CO2_Emissions</th>\n",
       "      <th>Water_Used_ML</th>\n",
       "      <th>Waste_To_Landfill_Tonnes</th>\n",
       "      <th>Avg_Worker_Wage_USD</th>\n",
       "      <th>Weekly_Work_Hours</th>\n",
       "      <th>Avg_fashion_item_Price</th>\n",
       "    </tr>\n",
       "  </thead>\n",
       "  <tbody>\n",
       "    <tr>\n",
       "      <th>count</th>\n",
       "      <td>15000.000000</td>\n",
       "      <td>15000.000000</td>\n",
       "      <td>15000.000000</td>\n",
       "      <td>15000.000000</td>\n",
       "      <td>15000.000000</td>\n",
       "      <td>15000.000000</td>\n",
       "      <td>15000.000000</td>\n",
       "      <td>15000.000000</td>\n",
       "    </tr>\n",
       "    <tr>\n",
       "      <th>mean</th>\n",
       "      <td>495.672919</td>\n",
       "      <td>17.745933</td>\n",
       "      <td>10053.561736</td>\n",
       "      <td>201.741882</td>\n",
       "      <td>794.302712</td>\n",
       "      <td>149.477809</td>\n",
       "      <td>54.946867</td>\n",
       "      <td>19.915037</td>\n",
       "    </tr>\n",
       "    <tr>\n",
       "      <th>std</th>\n",
       "      <td>150.752883</td>\n",
       "      <td>6.914557</td>\n",
       "      <td>3040.365680</td>\n",
       "      <td>60.412129</td>\n",
       "      <td>203.926013</td>\n",
       "      <td>49.646791</td>\n",
       "      <td>8.505022</td>\n",
       "      <td>5.797920</td>\n",
       "    </tr>\n",
       "    <tr>\n",
       "      <th>min</th>\n",
       "      <td>-17.848056</td>\n",
       "      <td>6.000000</td>\n",
       "      <td>-24.825368</td>\n",
       "      <td>6.221189</td>\n",
       "      <td>34.379810</td>\n",
       "      <td>-58.387487</td>\n",
       "      <td>40.000000</td>\n",
       "      <td>0.573808</td>\n",
       "    </tr>\n",
       "    <tr>\n",
       "      <th>25%</th>\n",
       "      <td>397.721632</td>\n",
       "      <td>12.000000</td>\n",
       "      <td>7906.450178</td>\n",
       "      <td>161.430231</td>\n",
       "      <td>653.867888</td>\n",
       "      <td>116.948153</td>\n",
       "      <td>48.000000</td>\n",
       "      <td>15.568214</td>\n",
       "    </tr>\n",
       "    <tr>\n",
       "      <th>50%</th>\n",
       "      <td>494.346126</td>\n",
       "      <td>18.000000</td>\n",
       "      <td>10075.385745</td>\n",
       "      <td>200.552146</td>\n",
       "      <td>797.548515</td>\n",
       "      <td>148.996408</td>\n",
       "      <td>55.000000</td>\n",
       "      <td>19.861666</td>\n",
       "    </tr>\n",
       "    <tr>\n",
       "      <th>75%</th>\n",
       "      <td>593.578755</td>\n",
       "      <td>24.000000</td>\n",
       "      <td>12146.526870</td>\n",
       "      <td>241.195713</td>\n",
       "      <td>932.165950</td>\n",
       "      <td>183.183866</td>\n",
       "      <td>62.000000</td>\n",
       "      <td>24.195608</td>\n",
       "    </tr>\n",
       "    <tr>\n",
       "      <th>max</th>\n",
       "      <td>1016.881177</td>\n",
       "      <td>29.000000</td>\n",
       "      <td>19996.749680</td>\n",
       "      <td>370.353479</td>\n",
       "      <td>1492.483236</td>\n",
       "      <td>329.532965</td>\n",
       "      <td>69.000000</td>\n",
       "      <td>36.797473</td>\n",
       "    </tr>\n",
       "  </tbody>\n",
       "</table>\n",
       "</div>"
      ],
      "text/plain": [
       "       Monthly_Output_Tonnes  Yearly_Release_Count  CO2_Emissions  \\\n",
       "count           15000.000000          15000.000000   15000.000000   \n",
       "mean              495.672919             17.745933   10053.561736   \n",
       "std               150.752883              6.914557    3040.365680   \n",
       "min               -17.848056              6.000000     -24.825368   \n",
       "25%               397.721632             12.000000    7906.450178   \n",
       "50%               494.346126             18.000000   10075.385745   \n",
       "75%               593.578755             24.000000   12146.526870   \n",
       "max              1016.881177             29.000000   19996.749680   \n",
       "\n",
       "       Water_Used_ML  Waste_To_Landfill_Tonnes  Avg_Worker_Wage_USD  \\\n",
       "count   15000.000000              15000.000000         15000.000000   \n",
       "mean      201.741882                794.302712           149.477809   \n",
       "std        60.412129                203.926013            49.646791   \n",
       "min         6.221189                 34.379810           -58.387487   \n",
       "25%       161.430231                653.867888           116.948153   \n",
       "50%       200.552146                797.548515           148.996408   \n",
       "75%       241.195713                932.165950           183.183866   \n",
       "max       370.353479               1492.483236           329.532965   \n",
       "\n",
       "       Weekly_Work_Hours  Avg_fashion_item_Price  \n",
       "count       15000.000000            15000.000000  \n",
       "mean           54.946867               19.915037  \n",
       "std             8.505022                5.797920  \n",
       "min            40.000000                0.573808  \n",
       "25%            48.000000               15.568214  \n",
       "50%            55.000000               19.861666  \n",
       "75%            62.000000               24.195608  \n",
       "max            69.000000               36.797473  "
      ]
     },
     "execution_count": 5,
     "metadata": {},
     "output_type": "execute_result"
    }
   ],
   "source": [
    "train.describe()"
   ]
  },
  {
   "cell_type": "code",
   "execution_count": 4,
   "id": "0bc9bc70",
   "metadata": {},
   "outputs": [],
   "source": [
    "X=train.drop(\"Avg_fashion_item_Price\", axis=1)\n",
    "y=train['Avg_fashion_item_Price']\n"
   ]
  },
  {
   "cell_type": "code",
   "execution_count": 9,
   "id": "69f11b07",
   "metadata": {},
   "outputs": [
    {
     "data": {
      "text/html": [
       "<div>\n",
       "<style scoped>\n",
       "    .dataframe tbody tr th:only-of-type {\n",
       "        vertical-align: middle;\n",
       "    }\n",
       "\n",
       "    .dataframe tbody tr th {\n",
       "        vertical-align: top;\n",
       "    }\n",
       "\n",
       "    .dataframe thead th {\n",
       "        text-align: right;\n",
       "    }\n",
       "</style>\n",
       "<table border=\"1\" class=\"dataframe\">\n",
       "  <thead>\n",
       "    <tr style=\"text-align: right;\">\n",
       "      <th></th>\n",
       "      <th>Monthly_Output_Tonnes</th>\n",
       "      <th>Yearly_Release_Count</th>\n",
       "      <th>CO2_Emissions</th>\n",
       "      <th>Water_Used_ML</th>\n",
       "      <th>Waste_To_Landfill_Tonnes</th>\n",
       "      <th>Avg_Worker_Wage_USD</th>\n",
       "      <th>Weekly_Work_Hours</th>\n",
       "    </tr>\n",
       "  </thead>\n",
       "  <tbody>\n",
       "    <tr>\n",
       "      <th>0</th>\n",
       "      <td>588.648594</td>\n",
       "      <td>17</td>\n",
       "      <td>11594.853740</td>\n",
       "      <td>191.264884</td>\n",
       "      <td>930.946232</td>\n",
       "      <td>86.021109</td>\n",
       "      <td>63</td>\n",
       "    </tr>\n",
       "    <tr>\n",
       "      <th>1</th>\n",
       "      <td>419.410744</td>\n",
       "      <td>16</td>\n",
       "      <td>17049.042680</td>\n",
       "      <td>233.167384</td>\n",
       "      <td>802.147084</td>\n",
       "      <td>162.032022</td>\n",
       "      <td>56</td>\n",
       "    </tr>\n",
       "    <tr>\n",
       "      <th>2</th>\n",
       "      <td>523.379827</td>\n",
       "      <td>7</td>\n",
       "      <td>7916.679800</td>\n",
       "      <td>212.169477</td>\n",
       "      <td>918.327579</td>\n",
       "      <td>42.024435</td>\n",
       "      <td>52</td>\n",
       "    </tr>\n",
       "    <tr>\n",
       "      <th>3</th>\n",
       "      <td>202.911362</td>\n",
       "      <td>29</td>\n",
       "      <td>14981.414340</td>\n",
       "      <td>177.040708</td>\n",
       "      <td>903.096798</td>\n",
       "      <td>153.365509</td>\n",
       "      <td>51</td>\n",
       "    </tr>\n",
       "    <tr>\n",
       "      <th>4</th>\n",
       "      <td>185.040996</td>\n",
       "      <td>15</td>\n",
       "      <td>12495.970730</td>\n",
       "      <td>153.809215</td>\n",
       "      <td>767.246025</td>\n",
       "      <td>125.304830</td>\n",
       "      <td>48</td>\n",
       "    </tr>\n",
       "    <tr>\n",
       "      <th>...</th>\n",
       "      <td>...</td>\n",
       "      <td>...</td>\n",
       "      <td>...</td>\n",
       "      <td>...</td>\n",
       "      <td>...</td>\n",
       "      <td>...</td>\n",
       "      <td>...</td>\n",
       "    </tr>\n",
       "    <tr>\n",
       "      <th>14995</th>\n",
       "      <td>445.328948</td>\n",
       "      <td>12</td>\n",
       "      <td>9649.409425</td>\n",
       "      <td>208.321185</td>\n",
       "      <td>687.907964</td>\n",
       "      <td>87.729158</td>\n",
       "      <td>67</td>\n",
       "    </tr>\n",
       "    <tr>\n",
       "      <th>14996</th>\n",
       "      <td>291.084257</td>\n",
       "      <td>27</td>\n",
       "      <td>7936.741727</td>\n",
       "      <td>159.693766</td>\n",
       "      <td>360.529936</td>\n",
       "      <td>195.873001</td>\n",
       "      <td>53</td>\n",
       "    </tr>\n",
       "    <tr>\n",
       "      <th>14997</th>\n",
       "      <td>682.726044</td>\n",
       "      <td>27</td>\n",
       "      <td>12695.623350</td>\n",
       "      <td>139.610304</td>\n",
       "      <td>648.653926</td>\n",
       "      <td>113.215317</td>\n",
       "      <td>62</td>\n",
       "    </tr>\n",
       "    <tr>\n",
       "      <th>14998</th>\n",
       "      <td>500.365771</td>\n",
       "      <td>19</td>\n",
       "      <td>11203.538040</td>\n",
       "      <td>149.473962</td>\n",
       "      <td>966.047571</td>\n",
       "      <td>211.141058</td>\n",
       "      <td>61</td>\n",
       "    </tr>\n",
       "    <tr>\n",
       "      <th>14999</th>\n",
       "      <td>313.633643</td>\n",
       "      <td>18</td>\n",
       "      <td>12645.815800</td>\n",
       "      <td>208.433740</td>\n",
       "      <td>739.403223</td>\n",
       "      <td>189.822136</td>\n",
       "      <td>60</td>\n",
       "    </tr>\n",
       "  </tbody>\n",
       "</table>\n",
       "<p>15000 rows × 7 columns</p>\n",
       "</div>"
      ],
      "text/plain": [
       "       Monthly_Output_Tonnes  Yearly_Release_Count  CO2_Emissions  \\\n",
       "0                 588.648594                    17   11594.853740   \n",
       "1                 419.410744                    16   17049.042680   \n",
       "2                 523.379827                     7    7916.679800   \n",
       "3                 202.911362                    29   14981.414340   \n",
       "4                 185.040996                    15   12495.970730   \n",
       "...                      ...                   ...            ...   \n",
       "14995             445.328948                    12    9649.409425   \n",
       "14996             291.084257                    27    7936.741727   \n",
       "14997             682.726044                    27   12695.623350   \n",
       "14998             500.365771                    19   11203.538040   \n",
       "14999             313.633643                    18   12645.815800   \n",
       "\n",
       "       Water_Used_ML  Waste_To_Landfill_Tonnes  Avg_Worker_Wage_USD  \\\n",
       "0         191.264884                930.946232            86.021109   \n",
       "1         233.167384                802.147084           162.032022   \n",
       "2         212.169477                918.327579            42.024435   \n",
       "3         177.040708                903.096798           153.365509   \n",
       "4         153.809215                767.246025           125.304830   \n",
       "...              ...                       ...                  ...   \n",
       "14995     208.321185                687.907964            87.729158   \n",
       "14996     159.693766                360.529936           195.873001   \n",
       "14997     139.610304                648.653926           113.215317   \n",
       "14998     149.473962                966.047571           211.141058   \n",
       "14999     208.433740                739.403223           189.822136   \n",
       "\n",
       "       Weekly_Work_Hours  \n",
       "0                     63  \n",
       "1                     56  \n",
       "2                     52  \n",
       "3                     51  \n",
       "4                     48  \n",
       "...                  ...  \n",
       "14995                 67  \n",
       "14996                 53  \n",
       "14997                 62  \n",
       "14998                 61  \n",
       "14999                 60  \n",
       "\n",
       "[15000 rows x 7 columns]"
      ]
     },
     "execution_count": 9,
     "metadata": {},
     "output_type": "execute_result"
    }
   ],
   "source": [
    "X"
   ]
  },
  {
   "cell_type": "markdown",
   "id": "df7db799",
   "metadata": {},
   "source": [
    "## Split the Data"
   ]
  },
  {
   "cell_type": "code",
   "execution_count": 5,
   "id": "37b3cfef",
   "metadata": {},
   "outputs": [],
   "source": [
    "from sklearn.model_selection import train_test_split\n"
   ]
  },
  {
   "cell_type": "code",
   "execution_count": 6,
   "id": "a56a70de",
   "metadata": {},
   "outputs": [],
   "source": [
    "X_train, X_test, y_train, y_test = train_test_split(\n",
    "    X, y, test_size=0.2, random_state=42\n",
    ")"
   ]
  },
  {
   "cell_type": "code",
   "execution_count": 7,
   "id": "e6b20fca",
   "metadata": {},
   "outputs": [],
   "source": [
    "from sklearn.preprocessing import StandardScaler\n",
    "\n",
    "scaler = StandardScaler()\n",
    "X_train_scaled = scaler.fit_transform(X_train)\n",
    "X_test_scaled = scaler.transform(X_test)\n"
   ]
  },
  {
   "cell_type": "code",
   "execution_count": 8,
   "id": "4428ecce",
   "metadata": {},
   "outputs": [],
   "source": [
    "from sklearn.ensemble import RandomForestRegressor\n",
    "from xgboost import XGBRegressor\n",
    "\n"
   ]
  },
  {
   "cell_type": "code",
   "execution_count": 9,
   "id": "b032be21",
   "metadata": {},
   "outputs": [],
   "source": [
    "models = {\n",
    "    \"RandomForest\": RandomForestRegressor(random_state=42),\n",
    "    \"XGBoost\": XGBRegressor(random_state=42, verbosity=0),\n",
    "}"
   ]
  },
  {
   "cell_type": "markdown",
   "id": "34677bb0",
   "metadata": {},
   "source": [
    "### Evaluate with Cross-Validation"
   ]
  },
  {
   "cell_type": "code",
   "execution_count": 21,
   "id": "3ecab74c",
   "metadata": {},
   "outputs": [
    {
     "name": "stdout",
     "output_type": "stream",
     "text": [
      "RandomForest CV R2: 0.9552\n",
      "XGBoost CV R2: 0.8700\n"
     ]
    }
   ],
   "source": [
    "from sklearn.model_selection import cross_val_score\n",
    "from sklearn.metrics import r2_score, mean_squared_error,mean_absolute_error\n",
    "\n",
    "for name, model in models.items():\n",
    "    scores = cross_val_score(model, X_train_scaled, y_train, cv=5, scoring='r2')\n",
    "    print(f\"{name} CV R2: {scores.mean():.4f}\")\n"
   ]
  },
  {
   "cell_type": "markdown",
   "id": "edc0ef21",
   "metadata": {},
   "source": [
    "### Hyperparameter Tuning"
   ]
  },
  {
   "cell_type": "code",
   "execution_count": 12,
   "id": "d708669e",
   "metadata": {},
   "outputs": [],
   "source": [
    "from sklearn.model_selection import RandomizedSearchCV\n",
    "\n",
    "param_grid_rf = {\n",
    "    'n_estimators': [100, 200, 300,350],\n",
    "    'max_depth': [None, 5, 10],\n",
    "    'min_samples_split': [2, 5],\n",
    "}\n",
    "\n",
    "search_rf = RandomizedSearchCV(RandomForestRegressor(random_state=42), param_grid_rf, \n",
    "                                scoring='r2', random_state=42)\n",
    "search_rf.fit(X_train_scaled, y_train)\n",
    "\n",
    "best_rf = search_rf.best_estimator_\n"
   ]
  },
  {
   "cell_type": "code",
   "execution_count": 13,
   "id": "8c950094",
   "metadata": {},
   "outputs": [
    {
     "data": {
      "text/plain": [
       "RandomForestRegressor(n_estimators=200, random_state=42)"
      ]
     },
     "execution_count": 13,
     "metadata": {},
     "output_type": "execute_result"
    }
   ],
   "source": [
    "best_rf"
   ]
  },
  {
   "cell_type": "code",
   "execution_count": 147,
   "id": "755ea788",
   "metadata": {},
   "outputs": [],
   "source": [
    "rfr=RandomForestRegressor(n_estimators=275)"
   ]
  },
  {
   "cell_type": "code",
   "execution_count": 148,
   "id": "426f088a",
   "metadata": {},
   "outputs": [
    {
     "data": {
      "text/plain": [
       "RandomForestRegressor(n_estimators=275)"
      ]
     },
     "execution_count": 148,
     "metadata": {},
     "output_type": "execute_result"
    }
   ],
   "source": [
    "rfr.fit(X_train_scaled, y_train)\n"
   ]
  },
  {
   "cell_type": "code",
   "execution_count": 149,
   "id": "8c9d319a",
   "metadata": {},
   "outputs": [],
   "source": [
    "y_preds=rfr.predict(X_test_scaled)"
   ]
  },
  {
   "cell_type": "code",
   "execution_count": 150,
   "id": "3a2bccbd",
   "metadata": {},
   "outputs": [
    {
     "name": "stdout",
     "output_type": "stream",
     "text": [
      "R2 Score: 0.970939791672217\n",
      "MSE: 0.9931763118875246\n"
     ]
    }
   ],
   "source": [
    "\n",
    "print(\"R2 Score:\", r2_score(y_test, y_preds))\n",
    "print(\"MSE:\", mean_squared_error(y_test, y_preds))\n"
   ]
  },
  {
   "cell_type": "code",
   "execution_count": 114,
   "id": "8e15cd9f",
   "metadata": {},
   "outputs": [
    {
     "name": "stdout",
     "output_type": "stream",
     "text": [
      "R2 Score: 0.9711823631588739\n",
      "MSE: 0.9848860666226091\n"
     ]
    }
   ],
   "source": [
    "print(\"R2 Score:\", r2_score(y_test, y_preds))\n",
    "print(\"MSE:\", mean_squared_error(y_test, y_preds))"
   ]
  },
  {
   "cell_type": "markdown",
   "id": "8d3670cc",
   "metadata": {},
   "source": [
    "###  Final Evaluation on Test Set\n"
   ]
  },
  {
   "cell_type": "code",
   "execution_count": 16,
   "id": "bdf05232",
   "metadata": {},
   "outputs": [
    {
     "name": "stdout",
     "output_type": "stream",
     "text": [
      "R2 Score: 0.96918860004622\n",
      "MSE: 1.0530259186383892\n"
     ]
    }
   ],
   "source": [
    "y_pred = best_rf.predict(X_test_scaled)\n",
    "\n",
    "print(\"R2 Score:\", r2_score(y_test, y_pred))\n",
    "print(\"MSE:\", mean_squared_error(y_test, y_pred))\n"
   ]
  },
  {
   "cell_type": "code",
   "execution_count": 44,
   "id": "5198df59",
   "metadata": {},
   "outputs": [],
   "source": [
    "test_df=pd.read_csv(\"C:\\\\Users\\\\Asus\\\\Downloads\\\\Dataset\\\\Dataset\\\\Test.csv\")"
   ]
  },
  {
   "cell_type": "code",
   "execution_count": 25,
   "id": "2cd2a012",
   "metadata": {},
   "outputs": [
    {
     "data": {
      "text/html": [
       "<div>\n",
       "<style scoped>\n",
       "    .dataframe tbody tr th:only-of-type {\n",
       "        vertical-align: middle;\n",
       "    }\n",
       "\n",
       "    .dataframe tbody tr th {\n",
       "        vertical-align: top;\n",
       "    }\n",
       "\n",
       "    .dataframe thead th {\n",
       "        text-align: right;\n",
       "    }\n",
       "</style>\n",
       "<table border=\"1\" class=\"dataframe\">\n",
       "  <thead>\n",
       "    <tr style=\"text-align: right;\">\n",
       "      <th></th>\n",
       "      <th>Monthly_Output_Tonnes</th>\n",
       "      <th>Yearly_Release_Count</th>\n",
       "      <th>CO2_Emissions</th>\n",
       "      <th>Water_Used_ML</th>\n",
       "      <th>Waste_To_Landfill_Tonnes</th>\n",
       "      <th>Avg_Worker_Wage_USD</th>\n",
       "      <th>Weekly_Work_Hours</th>\n",
       "      <th>Avg_fashion_item_Price</th>\n",
       "    </tr>\n",
       "  </thead>\n",
       "  <tbody>\n",
       "    <tr>\n",
       "      <th>0</th>\n",
       "      <td>416.427313</td>\n",
       "      <td>26</td>\n",
       "      <td>12973.10315</td>\n",
       "      <td>205.068617</td>\n",
       "      <td>981.194258</td>\n",
       "      <td>134.407898</td>\n",
       "      <td>57</td>\n",
       "      <td>NaN</td>\n",
       "    </tr>\n",
       "    <tr>\n",
       "      <th>1</th>\n",
       "      <td>535.856742</td>\n",
       "      <td>8</td>\n",
       "      <td>10250.78653</td>\n",
       "      <td>190.365786</td>\n",
       "      <td>1024.857400</td>\n",
       "      <td>214.419836</td>\n",
       "      <td>41</td>\n",
       "      <td>NaN</td>\n",
       "    </tr>\n",
       "    <tr>\n",
       "      <th>2</th>\n",
       "      <td>196.137250</td>\n",
       "      <td>16</td>\n",
       "      <td>11754.92941</td>\n",
       "      <td>182.129182</td>\n",
       "      <td>696.759239</td>\n",
       "      <td>217.551386</td>\n",
       "      <td>55</td>\n",
       "      <td>NaN</td>\n",
       "    </tr>\n",
       "    <tr>\n",
       "      <th>3</th>\n",
       "      <td>418.432238</td>\n",
       "      <td>17</td>\n",
       "      <td>7902.26642</td>\n",
       "      <td>167.511985</td>\n",
       "      <td>617.092388</td>\n",
       "      <td>126.183107</td>\n",
       "      <td>48</td>\n",
       "      <td>NaN</td>\n",
       "    </tr>\n",
       "    <tr>\n",
       "      <th>4</th>\n",
       "      <td>496.369544</td>\n",
       "      <td>29</td>\n",
       "      <td>11866.33608</td>\n",
       "      <td>208.675372</td>\n",
       "      <td>795.154610</td>\n",
       "      <td>199.458920</td>\n",
       "      <td>65</td>\n",
       "      <td>NaN</td>\n",
       "    </tr>\n",
       "  </tbody>\n",
       "</table>\n",
       "</div>"
      ],
      "text/plain": [
       "   Monthly_Output_Tonnes  Yearly_Release_Count  CO2_Emissions  Water_Used_ML  \\\n",
       "0             416.427313                    26    12973.10315     205.068617   \n",
       "1             535.856742                     8    10250.78653     190.365786   \n",
       "2             196.137250                    16    11754.92941     182.129182   \n",
       "3             418.432238                    17     7902.26642     167.511985   \n",
       "4             496.369544                    29    11866.33608     208.675372   \n",
       "\n",
       "   Waste_To_Landfill_Tonnes  Avg_Worker_Wage_USD  Weekly_Work_Hours  \\\n",
       "0                981.194258           134.407898                 57   \n",
       "1               1024.857400           214.419836                 41   \n",
       "2                696.759239           217.551386                 55   \n",
       "3                617.092388           126.183107                 48   \n",
       "4                795.154610           199.458920                 65   \n",
       "\n",
       "   Avg_fashion_item_Price  \n",
       "0                     NaN  \n",
       "1                     NaN  \n",
       "2                     NaN  \n",
       "3                     NaN  \n",
       "4                     NaN  "
      ]
     },
     "execution_count": 25,
     "metadata": {},
     "output_type": "execute_result"
    }
   ],
   "source": [
    "test_df.head()"
   ]
  },
  {
   "cell_type": "code",
   "execution_count": 45,
   "id": "eeaf0f83",
   "metadata": {},
   "outputs": [],
   "source": [
    "test_df=test_df.drop('Avg_fashion_item_Price',axis=1)"
   ]
  },
  {
   "cell_type": "code",
   "execution_count": 22,
   "id": "1e12c551",
   "metadata": {},
   "outputs": [
    {
     "data": {
      "text/html": [
       "<div>\n",
       "<style scoped>\n",
       "    .dataframe tbody tr th:only-of-type {\n",
       "        vertical-align: middle;\n",
       "    }\n",
       "\n",
       "    .dataframe tbody tr th {\n",
       "        vertical-align: top;\n",
       "    }\n",
       "\n",
       "    .dataframe thead th {\n",
       "        text-align: right;\n",
       "    }\n",
       "</style>\n",
       "<table border=\"1\" class=\"dataframe\">\n",
       "  <thead>\n",
       "    <tr style=\"text-align: right;\">\n",
       "      <th></th>\n",
       "      <th>Monthly_Output_Tonnes</th>\n",
       "      <th>Yearly_Release_Count</th>\n",
       "      <th>CO2_Emissions</th>\n",
       "      <th>Water_Used_ML</th>\n",
       "      <th>Waste_To_Landfill_Tonnes</th>\n",
       "      <th>Avg_Worker_Wage_USD</th>\n",
       "      <th>Weekly_Work_Hours</th>\n",
       "    </tr>\n",
       "  </thead>\n",
       "  <tbody>\n",
       "    <tr>\n",
       "      <th>0</th>\n",
       "      <td>416.427313</td>\n",
       "      <td>26</td>\n",
       "      <td>12973.10315</td>\n",
       "      <td>205.068617</td>\n",
       "      <td>981.194258</td>\n",
       "      <td>134.407898</td>\n",
       "      <td>57</td>\n",
       "    </tr>\n",
       "    <tr>\n",
       "      <th>1</th>\n",
       "      <td>535.856742</td>\n",
       "      <td>8</td>\n",
       "      <td>10250.78653</td>\n",
       "      <td>190.365786</td>\n",
       "      <td>1024.857400</td>\n",
       "      <td>214.419836</td>\n",
       "      <td>41</td>\n",
       "    </tr>\n",
       "    <tr>\n",
       "      <th>2</th>\n",
       "      <td>196.137250</td>\n",
       "      <td>16</td>\n",
       "      <td>11754.92941</td>\n",
       "      <td>182.129182</td>\n",
       "      <td>696.759239</td>\n",
       "      <td>217.551386</td>\n",
       "      <td>55</td>\n",
       "    </tr>\n",
       "    <tr>\n",
       "      <th>3</th>\n",
       "      <td>418.432238</td>\n",
       "      <td>17</td>\n",
       "      <td>7902.26642</td>\n",
       "      <td>167.511985</td>\n",
       "      <td>617.092388</td>\n",
       "      <td>126.183107</td>\n",
       "      <td>48</td>\n",
       "    </tr>\n",
       "    <tr>\n",
       "      <th>4</th>\n",
       "      <td>496.369544</td>\n",
       "      <td>29</td>\n",
       "      <td>11866.33608</td>\n",
       "      <td>208.675372</td>\n",
       "      <td>795.154610</td>\n",
       "      <td>199.458920</td>\n",
       "      <td>65</td>\n",
       "    </tr>\n",
       "  </tbody>\n",
       "</table>\n",
       "</div>"
      ],
      "text/plain": [
       "   Monthly_Output_Tonnes  Yearly_Release_Count  CO2_Emissions  Water_Used_ML  \\\n",
       "0             416.427313                    26    12973.10315     205.068617   \n",
       "1             535.856742                     8    10250.78653     190.365786   \n",
       "2             196.137250                    16    11754.92941     182.129182   \n",
       "3             418.432238                    17     7902.26642     167.511985   \n",
       "4             496.369544                    29    11866.33608     208.675372   \n",
       "\n",
       "   Waste_To_Landfill_Tonnes  Avg_Worker_Wage_USD  Weekly_Work_Hours  \n",
       "0                981.194258           134.407898                 57  \n",
       "1               1024.857400           214.419836                 41  \n",
       "2                696.759239           217.551386                 55  \n",
       "3                617.092388           126.183107                 48  \n",
       "4                795.154610           199.458920                 65  "
      ]
     },
     "execution_count": 22,
     "metadata": {},
     "output_type": "execute_result"
    }
   ],
   "source": [
    "test_df.head()"
   ]
  },
  {
   "cell_type": "code",
   "execution_count": 63,
   "id": "2e9860f2",
   "metadata": {},
   "outputs": [],
   "source": [
    "test_final = scaler.transform(test_df)  # use the fitted scaler from training\n"
   ]
  },
  {
   "cell_type": "code",
   "execution_count": 96,
   "id": "d77740da",
   "metadata": {},
   "outputs": [],
   "source": [
    "predictions=rfr.predict(test_final)"
   ]
  },
  {
   "cell_type": "code",
   "execution_count": 97,
   "id": "f11677a0",
   "metadata": {},
   "outputs": [],
   "source": [
    "result=pd.DataFrame(predictions,columns=['Avg_fashion_item_Price'])"
   ]
  },
  {
   "cell_type": "code",
   "execution_count": 98,
   "id": "6af91262",
   "metadata": {},
   "outputs": [
    {
     "data": {
      "text/html": [
       "<div>\n",
       "<style scoped>\n",
       "    .dataframe tbody tr th:only-of-type {\n",
       "        vertical-align: middle;\n",
       "    }\n",
       "\n",
       "    .dataframe tbody tr th {\n",
       "        vertical-align: top;\n",
       "    }\n",
       "\n",
       "    .dataframe thead th {\n",
       "        text-align: right;\n",
       "    }\n",
       "</style>\n",
       "<table border=\"1\" class=\"dataframe\">\n",
       "  <thead>\n",
       "    <tr style=\"text-align: right;\">\n",
       "      <th></th>\n",
       "      <th>Avg_fashion_item_Price</th>\n",
       "    </tr>\n",
       "  </thead>\n",
       "  <tbody>\n",
       "    <tr>\n",
       "      <th>0</th>\n",
       "      <td>15.722769</td>\n",
       "    </tr>\n",
       "    <tr>\n",
       "      <th>1</th>\n",
       "      <td>27.396531</td>\n",
       "    </tr>\n",
       "    <tr>\n",
       "      <th>2</th>\n",
       "      <td>21.823555</td>\n",
       "    </tr>\n",
       "    <tr>\n",
       "      <th>3</th>\n",
       "      <td>12.578752</td>\n",
       "    </tr>\n",
       "    <tr>\n",
       "      <th>4</th>\n",
       "      <td>29.544902</td>\n",
       "    </tr>\n",
       "    <tr>\n",
       "      <th>...</th>\n",
       "      <td>...</td>\n",
       "    </tr>\n",
       "    <tr>\n",
       "      <th>195</th>\n",
       "      <td>13.566376</td>\n",
       "    </tr>\n",
       "    <tr>\n",
       "      <th>196</th>\n",
       "      <td>18.635015</td>\n",
       "    </tr>\n",
       "    <tr>\n",
       "      <th>197</th>\n",
       "      <td>17.546487</td>\n",
       "    </tr>\n",
       "    <tr>\n",
       "      <th>198</th>\n",
       "      <td>26.638392</td>\n",
       "    </tr>\n",
       "    <tr>\n",
       "      <th>199</th>\n",
       "      <td>17.155331</td>\n",
       "    </tr>\n",
       "  </tbody>\n",
       "</table>\n",
       "<p>200 rows × 1 columns</p>\n",
       "</div>"
      ],
      "text/plain": [
       "     Avg_fashion_item_Price\n",
       "0                 15.722769\n",
       "1                 27.396531\n",
       "2                 21.823555\n",
       "3                 12.578752\n",
       "4                 29.544902\n",
       "..                      ...\n",
       "195               13.566376\n",
       "196               18.635015\n",
       "197               17.546487\n",
       "198               26.638392\n",
       "199               17.155331\n",
       "\n",
       "[200 rows x 1 columns]"
      ]
     },
     "execution_count": 98,
     "metadata": {},
     "output_type": "execute_result"
    }
   ],
   "source": [
    "result"
   ]
  },
  {
   "cell_type": "code",
   "execution_count": 99,
   "id": "96aba380",
   "metadata": {},
   "outputs": [],
   "source": [
    "result.to_csv(\"C:\\\\Users\\\\Asus\\\\Downloads\\\\submission.csv\", index=False)"
   ]
  },
  {
   "cell_type": "code",
   "execution_count": null,
   "id": "8ff54cd9",
   "metadata": {},
   "outputs": [],
   "source": []
  }
 ],
 "metadata": {
  "kernelspec": {
   "display_name": "Python 3",
   "language": "python",
   "name": "python3"
  },
  "language_info": {
   "codemirror_mode": {
    "name": "ipython",
    "version": 3
   },
   "file_extension": ".py",
   "mimetype": "text/x-python",
   "name": "python",
   "nbconvert_exporter": "python",
   "pygments_lexer": "ipython3",
   "version": "3.8.8"
  }
 },
 "nbformat": 4,
 "nbformat_minor": 5
}
